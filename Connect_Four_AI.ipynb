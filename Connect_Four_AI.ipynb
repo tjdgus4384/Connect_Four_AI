{
 "cells": [
  {
   "cell_type": "code",
   "execution_count": 1,
   "id": "c4a7e0de",
   "metadata": {},
   "outputs": [
    {
     "ename": "ModuleNotFoundError",
     "evalue": "No module named 'kaggle_environments'",
     "output_type": "error",
     "traceback": [
      "\u001b[1;31m---------------------------------------------------------------------------\u001b[0m",
      "\u001b[1;31mModuleNotFoundError\u001b[0m                       Traceback (most recent call last)",
      "Input \u001b[1;32mIn [1]\u001b[0m, in \u001b[0;36m<cell line: 1>\u001b[1;34m()\u001b[0m\n\u001b[1;32m----> 1\u001b[0m \u001b[38;5;28;01mfrom\u001b[39;00m \u001b[38;5;21;01mkaggle_environments\u001b[39;00m \u001b[38;5;28;01mimport\u001b[39;00m make, evaluate\n\u001b[0;32m      3\u001b[0m \u001b[38;5;66;03m# Create the game environment\u001b[39;00m\n\u001b[0;32m      4\u001b[0m \u001b[38;5;66;03m# Set debug=True to see the errors if your agent refuses to run\u001b[39;00m\n\u001b[0;32m      5\u001b[0m env \u001b[38;5;241m=\u001b[39m make(\u001b[38;5;124m\"\u001b[39m\u001b[38;5;124mconnectx\u001b[39m\u001b[38;5;124m\"\u001b[39m, debug\u001b[38;5;241m=\u001b[39m\u001b[38;5;28;01mTrue\u001b[39;00m)\n",
      "\u001b[1;31mModuleNotFoundError\u001b[0m: No module named 'kaggle_environments'"
     ]
    }
   ],
   "source": [
    "from kaggle_environments import make, evaluate\n",
    "\n",
    "# Create the game environment\n",
    "# Set debug=True to see the errors if your agent refuses to run\n",
    "env = make(\"connectx\", debug=True)\n",
    "\n",
    "# List of available default agents\n",
    "print(list(env.agents))"
   ]
  },
  {
   "cell_type": "code",
   "execution_count": null,
   "id": "48f0f32a",
   "metadata": {},
   "outputs": [],
   "source": []
  }
 ],
 "metadata": {
  "kernelspec": {
   "display_name": "Python 3 (ipykernel)",
   "language": "python",
   "name": "python3"
  },
  "language_info": {
   "codemirror_mode": {
    "name": "ipython",
    "version": 3
   },
   "file_extension": ".py",
   "mimetype": "text/x-python",
   "name": "python",
   "nbconvert_exporter": "python",
   "pygments_lexer": "ipython3",
   "version": "3.9.12"
  }
 },
 "nbformat": 4,
 "nbformat_minor": 5
}
